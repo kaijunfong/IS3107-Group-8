{
 "cells": [
  {
   "cell_type": "markdown",
   "metadata": {},
   "source": [
    "# Community Centre Dataset"
   ]
  },
  {
   "cell_type": "code",
   "execution_count": 35,
   "metadata": {},
   "outputs": [
    {
     "name": "stdout",
     "output_type": "stream",
     "text": [
      "Requirement already satisfied: geopandas in /Users/shiyingng/anaconda3/lib/python3.10/site-packages (1.0.1)\n",
      "Requirement already satisfied: pyarrow in /Users/shiyingng/anaconda3/lib/python3.10/site-packages (19.0.1)\n",
      "Requirement already satisfied: beautifulsoup4 in /Users/shiyingng/anaconda3/lib/python3.10/site-packages (4.11.1)\n",
      "Requirement already satisfied: numpy>=1.22 in /Users/shiyingng/anaconda3/lib/python3.10/site-packages (from geopandas) (1.24.2)\n",
      "Requirement already satisfied: pyogrio>=0.7.2 in /Users/shiyingng/anaconda3/lib/python3.10/site-packages (from geopandas) (0.10.0)\n",
      "Requirement already satisfied: packaging in /Users/shiyingng/anaconda3/lib/python3.10/site-packages (from geopandas) (23.0)\n",
      "Requirement already satisfied: pandas>=1.4.0 in /Users/shiyingng/anaconda3/lib/python3.10/site-packages (from geopandas) (1.5.3)\n",
      "Requirement already satisfied: pyproj>=3.3.0 in /Users/shiyingng/anaconda3/lib/python3.10/site-packages (from geopandas) (3.7.1)\n",
      "Requirement already satisfied: shapely>=2.0.0 in /Users/shiyingng/anaconda3/lib/python3.10/site-packages (from geopandas) (2.0.7)\n",
      "Requirement already satisfied: soupsieve>1.2 in /Users/shiyingng/anaconda3/lib/python3.10/site-packages (from beautifulsoup4) (2.3.2.post1)\n",
      "Requirement already satisfied: python-dateutil>=2.8.1 in /Users/shiyingng/anaconda3/lib/python3.10/site-packages (from pandas>=1.4.0->geopandas) (2.8.2)\n",
      "Requirement already satisfied: pytz>=2020.1 in /Users/shiyingng/anaconda3/lib/python3.10/site-packages (from pandas>=1.4.0->geopandas) (2022.7)\n",
      "Requirement already satisfied: certifi in /Users/shiyingng/anaconda3/lib/python3.10/site-packages (from pyogrio>=0.7.2->geopandas) (2024.2.2)\n",
      "Requirement already satisfied: six>=1.5 in /Users/shiyingng/anaconda3/lib/python3.10/site-packages (from python-dateutil>=2.8.1->pandas>=1.4.0->geopandas) (1.16.0)\n"
     ]
    }
   ],
   "source": [
    "!pip install geopandas pyarrow beautifulsoup4"
   ]
  },
  {
   "cell_type": "code",
   "execution_count": 36,
   "metadata": {},
   "outputs": [],
   "source": [
    "import geopandas as gpd\n",
    "import pandas as pd\n",
    "from bs4 import BeautifulSoup\n",
    "import requests"
   ]
  },
  {
   "cell_type": "markdown",
   "metadata": {},
   "source": [
    "# Load dataset "
   ]
  },
  {
   "cell_type": "code",
   "execution_count": 37,
   "metadata": {},
   "outputs": [
    {
     "data": {
      "text/html": [
       "<div>\n",
       "<style scoped>\n",
       "    .dataframe tbody tr th:only-of-type {\n",
       "        vertical-align: middle;\n",
       "    }\n",
       "\n",
       "    .dataframe tbody tr th {\n",
       "        vertical-align: top;\n",
       "    }\n",
       "\n",
       "    .dataframe thead th {\n",
       "        text-align: right;\n",
       "    }\n",
       "</style>\n",
       "<table border=\"1\" class=\"dataframe\">\n",
       "  <thead>\n",
       "    <tr style=\"text-align: right;\">\n",
       "      <th></th>\n",
       "      <th>Name</th>\n",
       "      <th>Description</th>\n",
       "      <th>geometry</th>\n",
       "    </tr>\n",
       "  </thead>\n",
       "  <tbody>\n",
       "    <tr>\n",
       "      <th>0</th>\n",
       "      <td>kml_1</td>\n",
       "      <td>&lt;center&gt;&lt;table&gt;&lt;tr&gt;&lt;th colspan='2' align='cent...</td>\n",
       "      <td>POINT Z (103.90126 1.4023 0)</td>\n",
       "    </tr>\n",
       "    <tr>\n",
       "      <th>1</th>\n",
       "      <td>kml_2</td>\n",
       "      <td>&lt;center&gt;&lt;table&gt;&lt;tr&gt;&lt;th colspan='2' align='cent...</td>\n",
       "      <td>POINT Z (103.87091 1.31424 0)</td>\n",
       "    </tr>\n",
       "    <tr>\n",
       "      <th>2</th>\n",
       "      <td>kml_3</td>\n",
       "      <td>&lt;center&gt;&lt;table&gt;&lt;tr&gt;&lt;th colspan='2' align='cent...</td>\n",
       "      <td>POINT Z (103.88637 1.37332 0)</td>\n",
       "    </tr>\n",
       "    <tr>\n",
       "      <th>3</th>\n",
       "      <td>kml_4</td>\n",
       "      <td>&lt;center&gt;&lt;table&gt;&lt;tr&gt;&lt;th colspan='2' align='cent...</td>\n",
       "      <td>POINT Z (103.91494 1.33296 0)</td>\n",
       "    </tr>\n",
       "    <tr>\n",
       "      <th>4</th>\n",
       "      <td>kml_5</td>\n",
       "      <td>&lt;center&gt;&lt;table&gt;&lt;tr&gt;&lt;th colspan='2' align='cent...</td>\n",
       "      <td>POINT Z (103.95301 1.35345 0)</td>\n",
       "    </tr>\n",
       "  </tbody>\n",
       "</table>\n",
       "</div>"
      ],
      "text/plain": [
       "    Name                                        Description  \\\n",
       "0  kml_1  <center><table><tr><th colspan='2' align='cent...   \n",
       "1  kml_2  <center><table><tr><th colspan='2' align='cent...   \n",
       "2  kml_3  <center><table><tr><th colspan='2' align='cent...   \n",
       "3  kml_4  <center><table><tr><th colspan='2' align='cent...   \n",
       "4  kml_5  <center><table><tr><th colspan='2' align='cent...   \n",
       "\n",
       "                        geometry  \n",
       "0   POINT Z (103.90126 1.4023 0)  \n",
       "1  POINT Z (103.87091 1.31424 0)  \n",
       "2  POINT Z (103.88637 1.37332 0)  \n",
       "3  POINT Z (103.91494 1.33296 0)  \n",
       "4  POINT Z (103.95301 1.35345 0)  "
      ]
     },
     "metadata": {},
     "output_type": "display_data"
    }
   ],
   "source": [
    "# Community Clubs GeoJSON file \n",
    "geojson_file = \"SupermarketsGEOJSON.geojson\"\n",
    "gdf = gpd.read_file(geojson_file)\n",
    "\n",
    "# Show first few rows to inspect\n",
    "display(gdf.head())"
   ]
  },
  {
   "cell_type": "markdown",
   "metadata": {},
   "source": [
    "# Extract columns"
   ]
  },
  {
   "cell_type": "code",
   "execution_count": 38,
   "metadata": {},
   "outputs": [
    {
     "name": "stdout",
     "output_type": "stream",
     "text": [
      "    Name                                        Description  \\\n",
      "0  kml_1  <center><table><tr><th colspan='2' align='cent...   \n",
      "1  kml_2  <center><table><tr><th colspan='2' align='cent...   \n",
      "2  kml_3  <center><table><tr><th colspan='2' align='cent...   \n",
      "3  kml_4  <center><table><tr><th colspan='2' align='cent...   \n",
      "4  kml_5  <center><table><tr><th colspan='2' align='cent...   \n",
      "\n",
      "                        geometry                                     LIC_NAME  \\\n",
      "0   POINT Z (103.90126 1.4023 0)  LI LI CHENG SUPERMARKET (PUNGGOL) PTE. LTD.   \n",
      "1  POINT Z (103.87091 1.31424 0)              SHENG SIONG SUPERMARKET PTE LTD   \n",
      "2  POINT Z (103.88637 1.37332 0)        COLD STORAGE SINGAPORE (1983) PTE LTD   \n",
      "3  POINT Z (103.91494 1.33296 0)        COLD STORAGE SINGAPORE (1983) PTE LTD   \n",
      "4  POINT Z (103.95301 1.35345 0)                      YES SUPERMARKET PTE LTD   \n",
      "\n",
      "  BLK_HOUSE              STR_NAME UNIT_NO POSTCODE       LIC_NO  \\\n",
      "0      273C         PUNGGOL PLACE     884   823273  NE12I65N000   \n",
      "1        11  UPPER BOON KENG ROAD     901   380011   E73010V000   \n",
      "2       683      HOUGANG AVENUE 8     903   530683  NE11909C000   \n",
      "3       631  BEDOK RESERVOIR ROAD     954   470631   S02210X000   \n",
      "4      201B    TAMPINES STREET 21    1091   522201   S02037J000   \n",
      "\n",
      "            INC_CRC      FMEL_UPD_D  \n",
      "0  3DE8AF6E76F9D3D4  20171129183653  \n",
      "1  F361759A8261CD6E  20171129183653  \n",
      "2  1DC69902E02077CE  20171129183653  \n",
      "3  4E2560154B58BA38  20171129183653  \n",
      "4  559A9A00D9FF8A55  20171129183653  \n"
     ]
    }
   ],
   "source": [
    "# Function to extract data from the 'Description' HTML field\n",
    "def extract_description_info(description):\n",
    "    soup = BeautifulSoup(description, \"html.parser\")\n",
    "    data = {}\n",
    "\n",
    "    # Extract the table rows from the HTML\n",
    "    rows = soup.find_all('tr')\n",
    "\n",
    "    # Loop through each row and extract the column names and values\n",
    "    for row in rows:\n",
    "        th_elements = row.find_all('th')\n",
    "        td_elements = row.find_all('td')\n",
    "        \n",
    "        # Check if both <th> and <td> exist before extracting\n",
    "        if th_elements and td_elements:\n",
    "            key = th_elements[0].get_text(strip=True)\n",
    "            value = td_elements[0].get_text(strip=True)\n",
    "            data[key] = value\n",
    "\n",
    "    return data\n",
    "\n",
    "# Apply the extraction function to the 'Description' column\n",
    "description_data = gdf['Description'].apply(extract_description_info)\n",
    "\n",
    "# Convert the extracted data into a DataFrame\n",
    "description_df = pd.json_normalize(description_data)\n",
    "\n",
    "# Combine the new columns with the original GeoDataFrame (without overwriting the existing ones)\n",
    "gdf = pd.concat([gdf, description_df], axis=1)\n",
    "\n",
    "# Now, the GeoDataFrame should have new columns extracted from the Description field\n",
    "print(gdf.head())\n"
   ]
  },
  {
   "cell_type": "code",
   "execution_count": 39,
   "metadata": {},
   "outputs": [
    {
     "name": "stdout",
     "output_type": "stream",
     "text": [
      "['Name', 'Description', 'geometry', 'LIC_NAME', 'BLK_HOUSE', 'STR_NAME', 'UNIT_NO', 'POSTCODE', 'LIC_NO', 'INC_CRC', 'FMEL_UPD_D']\n"
     ]
    }
   ],
   "source": [
    "# List all column names\n",
    "print(gdf.columns.tolist())"
   ]
  },
  {
   "cell_type": "markdown",
   "metadata": {},
   "source": [
    "# Dataset statistics"
   ]
  },
  {
   "cell_type": "code",
   "execution_count": 40,
   "metadata": {},
   "outputs": [
    {
     "name": "stdout",
     "output_type": "stream",
     "text": [
      "Number of rows in the dataset: 526\n"
     ]
    }
   ],
   "source": [
    "# Get the number of rows\n",
    "num_rows = gdf.shape[0]\n",
    "print(f\"Number of rows in the dataset: {num_rows}\")"
   ]
  },
  {
   "cell_type": "code",
   "execution_count": 41,
   "metadata": {},
   "outputs": [
    {
     "name": "stdout",
     "output_type": "stream",
     "text": [
      "Empty strings per column:\n",
      "Name            0\n",
      "Description     0\n",
      "geometry        0\n",
      "LIC_NAME        0\n",
      "BLK_HOUSE       0\n",
      "STR_NAME        0\n",
      "UNIT_NO        75\n",
      "POSTCODE        0\n",
      "LIC_NO          0\n",
      "INC_CRC         0\n",
      "FMEL_UPD_D      0\n",
      "dtype: int64\n"
     ]
    }
   ],
   "source": [
    "# Check for empty strings in the entire GeoDataFrame -- same as checking for null values \n",
    "empty_strings = (gdf == \"\").sum()\n",
    "\n",
    "# Display columns with empty strings\n",
    "print(\"Empty strings per column:\")\n",
    "print(empty_strings)"
   ]
  },
  {
   "cell_type": "markdown",
   "metadata": {},
   "source": [
    "# Clean the dataset\n",
    "1. convert geometry into lat, lon form \n",
    "2. drop columns \n",
    "3. rename and rearrange columns "
   ]
  },
  {
   "cell_type": "code",
   "execution_count": 42,
   "metadata": {},
   "outputs": [
    {
     "name": "stdout",
     "output_type": "stream",
     "text": [
      "    Name                                        Description  \\\n",
      "0  kml_1  <center><table><tr><th colspan='2' align='cent...   \n",
      "1  kml_2  <center><table><tr><th colspan='2' align='cent...   \n",
      "2  kml_3  <center><table><tr><th colspan='2' align='cent...   \n",
      "3  kml_4  <center><table><tr><th colspan='2' align='cent...   \n",
      "4  kml_5  <center><table><tr><th colspan='2' align='cent...   \n",
      "\n",
      "                        geometry                                     LIC_NAME  \\\n",
      "0   POINT Z (103.90126 1.4023 0)  LI LI CHENG SUPERMARKET (PUNGGOL) PTE. LTD.   \n",
      "1  POINT Z (103.87091 1.31424 0)              SHENG SIONG SUPERMARKET PTE LTD   \n",
      "2  POINT Z (103.88637 1.37332 0)        COLD STORAGE SINGAPORE (1983) PTE LTD   \n",
      "3  POINT Z (103.91494 1.33296 0)        COLD STORAGE SINGAPORE (1983) PTE LTD   \n",
      "4  POINT Z (103.95301 1.35345 0)                      YES SUPERMARKET PTE LTD   \n",
      "\n",
      "  BLK_HOUSE              STR_NAME UNIT_NO POSTCODE       LIC_NO  \\\n",
      "0      273C         PUNGGOL PLACE     884   823273  NE12I65N000   \n",
      "1        11  UPPER BOON KENG ROAD     901   380011   E73010V000   \n",
      "2       683      HOUGANG AVENUE 8     903   530683  NE11909C000   \n",
      "3       631  BEDOK RESERVOIR ROAD     954   470631   S02210X000   \n",
      "4      201B    TAMPINES STREET 21    1091   522201   S02037J000   \n",
      "\n",
      "            INC_CRC      FMEL_UPD_D   longitude  latitude  \n",
      "0  3DE8AF6E76F9D3D4  20171129183653  103.901262  1.402303  \n",
      "1  F361759A8261CD6E  20171129183653  103.870914  1.314239  \n",
      "2  1DC69902E02077CE  20171129183653  103.886366  1.373321  \n",
      "3  4E2560154B58BA38  20171129183653  103.914942  1.332959  \n",
      "4  559A9A00D9FF8A55  20171129183653  103.953010  1.353453  \n"
     ]
    }
   ],
   "source": [
    "# Extract longitude and latitude from the geometry column\n",
    "gdf['longitude'] = gdf['geometry'].apply(lambda point: point.x)  # Longitude is the x-coordinate\n",
    "gdf['latitude'] = gdf['geometry'].apply(lambda point: point.y)   # Latitude is the y-coordinate\n",
    "\n",
    "# Verify the new columns \n",
    "print(gdf.head())"
   ]
  },
  {
   "cell_type": "code",
   "execution_count": 43,
   "metadata": {},
   "outputs": [
    {
     "name": "stdout",
     "output_type": "stream",
     "text": [
      "Number of duplicate supermarket: 2\n"
     ]
    }
   ],
   "source": [
    "# Check for duplicates \n",
    "duplicates = gdf.duplicated(subset=['LIC_NAME', 'longitude']).sum()\n",
    "print(f\"Number of duplicate supermarket: {duplicates}\")"
   ]
  },
  {
   "cell_type": "code",
   "execution_count": 44,
   "metadata": {},
   "outputs": [
    {
     "name": "stdout",
     "output_type": "stream",
     "text": [
      "Number of duplicate supermarket: 0\n",
      "Number of rows in the dataset: 524\n"
     ]
    }
   ],
   "source": [
    "# Drop duplicate rows based on name of facilities \n",
    "gdf = gdf.drop_duplicates(subset=[\"LIC_NAME\", 'longitude'])\n",
    "\n",
    "# Check if duplicated healthcare facilities have been dropped\n",
    "duplicates = gdf.duplicated(subset=['LIC_NAME', 'longitude']).sum()\n",
    "print(f\"Number of duplicate supermarket: {duplicates}\")\n",
    "\n",
    "# Get the number of rows and columns\n",
    "num_rows, num_columns = gdf.shape\n",
    "\n",
    "# Display the number of rows\n",
    "print(f\"Number of rows in the dataset: {num_rows}\")"
   ]
  },
  {
   "cell_type": "markdown",
   "metadata": {},
   "source": [
    "DROP / KEEP : (read in edit mode)\n",
    "Name            0 (drop because its kml_1, kml_2 etc)\n",
    "Description     0 (drop because alr expanded into the capital letters column)\n",
    "geometry        0 (drop because alr converted into lat lon columns)\n",
    "LIC_NAME        0 \n",
    "BLK_HOUSE       0\n",
    "STR_NAME        0\n",
    "UNIT_NO        75 (drop because not needed and got NA values)\n",
    "POSTCODE        0 \n",
    "LIC_NO          0 (drop because no explanation on what this is)\n",
    "INC_CRC         0 (drop because no explanation on what this is)\n",
    "FMEL_UPD_D      0 (drop because no explanation on what this is)\n"
   ]
  },
  {
   "cell_type": "code",
   "execution_count": 45,
   "metadata": {},
   "outputs": [
    {
     "name": "stdout",
     "output_type": "stream",
     "text": [
      "                                      LIC_NAME BLK_HOUSE  \\\n",
      "0  LI LI CHENG SUPERMARKET (PUNGGOL) PTE. LTD.      273C   \n",
      "1              SHENG SIONG SUPERMARKET PTE LTD        11   \n",
      "2        COLD STORAGE SINGAPORE (1983) PTE LTD       683   \n",
      "3        COLD STORAGE SINGAPORE (1983) PTE LTD       631   \n",
      "4                      YES SUPERMARKET PTE LTD      201B   \n",
      "\n",
      "               STR_NAME POSTCODE   longitude  latitude  \n",
      "0         PUNGGOL PLACE   823273  103.901262  1.402303  \n",
      "1  UPPER BOON KENG ROAD   380011  103.870914  1.314239  \n",
      "2      HOUGANG AVENUE 8   530683  103.886366  1.373321  \n",
      "3  BEDOK RESERVOIR ROAD   470631  103.914942  1.332959  \n",
      "4    TAMPINES STREET 21   522201  103.953010  1.353453  \n"
     ]
    }
   ],
   "source": [
    "# Drop the unnecessary columns \n",
    "columns_to_drop = ['Name', 'Description', 'geometry', 'UNIT_NO', 'LIC_NO', 'INC_CRC', 'FMEL_UPD_D']\n",
    "gdf = gdf.drop(columns=columns_to_drop)\n",
    "\n",
    "# Verify that the columns are dropped\n",
    "print(gdf.head())"
   ]
  },
  {
   "cell_type": "code",
   "execution_count": 46,
   "metadata": {},
   "outputs": [
    {
     "name": "stdout",
     "output_type": "stream",
     "text": [
      "                           name          street_name postal_code block_number  \\\n",
      "64             7SEVEN PTE. LTD.   NORTH COAST AVENUE      756992           51   \n",
      "15     ABEDIN TRADING PTE. LTD.         GEYLANG ROAD      389538          599   \n",
      "511  AJMAL SUPER MART PTE. LTD.  TUAS SOUTH AVENUE 1      637285           70   \n",
      "479  AJMAL TRADE MART PTE. LTD.          KRANJI ROAD      739522           12   \n",
      "453  AJMAL TRADE MART PTE. LTD.        MANDAI ESTATE      729937           23   \n",
      "\n",
      "      longitude  latitude  \n",
      "64   103.786437  1.456060  \n",
      "15   103.886700  1.314207  \n",
      "511  103.625765  1.313965  \n",
      "479  103.759237  1.430694  \n",
      "453  103.760562  1.406312  \n"
     ]
    }
   ],
   "source": [
    "# Rename columns\n",
    "gdf = gdf.rename(columns={\n",
    "    'LIC_NAME': 'name',\n",
    "    'BLK_HOUSE': 'block_number',\n",
    "    'STR_NAME': 'street_name',\n",
    "    'POSTCODE': 'postal_code',\n",
    "})\n",
    "\n",
    "# Rearrange columns\n",
    "gdf = gdf[['name', 'street_name', 'postal_code', 'block_number', 'longitude', 'latitude']]\n",
    "\n",
    "# Sort the GeoDataFrame by hawker_centre_name alphabetically\n",
    "gdf = gdf.sort_values(by='name', ascending=True)\n",
    "\n",
    "# Verify the column names after renaming\n",
    "print(gdf.head())"
   ]
  },
  {
   "cell_type": "markdown",
   "metadata": {},
   "source": [
    "# Save as CSV"
   ]
  },
  {
   "cell_type": "code",
   "execution_count": 47,
   "metadata": {},
   "outputs": [
    {
     "data": {
      "text/html": [
       "<div>\n",
       "<style scoped>\n",
       "    .dataframe tbody tr th:only-of-type {\n",
       "        vertical-align: middle;\n",
       "    }\n",
       "\n",
       "    .dataframe tbody tr th {\n",
       "        vertical-align: top;\n",
       "    }\n",
       "\n",
       "    .dataframe thead th {\n",
       "        text-align: right;\n",
       "    }\n",
       "</style>\n",
       "<table border=\"1\" class=\"dataframe\">\n",
       "  <thead>\n",
       "    <tr style=\"text-align: right;\">\n",
       "      <th></th>\n",
       "      <th>name</th>\n",
       "      <th>street_name</th>\n",
       "      <th>postal_code</th>\n",
       "      <th>block_number</th>\n",
       "      <th>longitude</th>\n",
       "      <th>latitude</th>\n",
       "    </tr>\n",
       "  </thead>\n",
       "  <tbody>\n",
       "    <tr>\n",
       "      <th>0</th>\n",
       "      <td>7SEVEN PTE. LTD.</td>\n",
       "      <td>NORTH COAST AVENUE</td>\n",
       "      <td>756992</td>\n",
       "      <td>51</td>\n",
       "      <td>103.786437</td>\n",
       "      <td>1.456060</td>\n",
       "    </tr>\n",
       "    <tr>\n",
       "      <th>1</th>\n",
       "      <td>ABEDIN TRADING PTE. LTD.</td>\n",
       "      <td>GEYLANG ROAD</td>\n",
       "      <td>389538</td>\n",
       "      <td>599</td>\n",
       "      <td>103.886700</td>\n",
       "      <td>1.314207</td>\n",
       "    </tr>\n",
       "    <tr>\n",
       "      <th>2</th>\n",
       "      <td>AJMAL SUPER MART PTE. LTD.</td>\n",
       "      <td>TUAS SOUTH AVENUE 1</td>\n",
       "      <td>637285</td>\n",
       "      <td>70</td>\n",
       "      <td>103.625765</td>\n",
       "      <td>1.313965</td>\n",
       "    </tr>\n",
       "    <tr>\n",
       "      <th>3</th>\n",
       "      <td>AJMAL TRADE MART PTE. LTD.</td>\n",
       "      <td>KRANJI ROAD</td>\n",
       "      <td>739522</td>\n",
       "      <td>12</td>\n",
       "      <td>103.759237</td>\n",
       "      <td>1.430694</td>\n",
       "    </tr>\n",
       "    <tr>\n",
       "      <th>4</th>\n",
       "      <td>AJMAL TRADE MART PTE. LTD.</td>\n",
       "      <td>MANDAI ESTATE</td>\n",
       "      <td>729937</td>\n",
       "      <td>23</td>\n",
       "      <td>103.760562</td>\n",
       "      <td>1.406312</td>\n",
       "    </tr>\n",
       "  </tbody>\n",
       "</table>\n",
       "</div>"
      ],
      "text/plain": [
       "                         name          street_name  postal_code block_number  \\\n",
       "0            7SEVEN PTE. LTD.   NORTH COAST AVENUE       756992           51   \n",
       "1    ABEDIN TRADING PTE. LTD.         GEYLANG ROAD       389538          599   \n",
       "2  AJMAL SUPER MART PTE. LTD.  TUAS SOUTH AVENUE 1       637285           70   \n",
       "3  AJMAL TRADE MART PTE. LTD.          KRANJI ROAD       739522           12   \n",
       "4  AJMAL TRADE MART PTE. LTD.        MANDAI ESTATE       729937           23   \n",
       "\n",
       "    longitude  latitude  \n",
       "0  103.786437  1.456060  \n",
       "1  103.886700  1.314207  \n",
       "2  103.625765  1.313965  \n",
       "3  103.759237  1.430694  \n",
       "4  103.760562  1.406312  "
      ]
     },
     "metadata": {},
     "output_type": "display_data"
    }
   ],
   "source": [
    "csv_file = \"supermarket_cleaned.csv\"\n",
    "gdf.to_csv(csv_file, index=False)\n",
    "\n",
    "# Load and preview CSV file to confirm\n",
    "df = pd.read_csv(csv_file)\n",
    "display(df.head())"
   ]
  }
 ],
 "metadata": {
  "kernelspec": {
   "display_name": "base",
   "language": "python",
   "name": "python3"
  },
  "language_info": {
   "codemirror_mode": {
    "name": "ipython",
    "version": 3
   },
   "file_extension": ".py",
   "mimetype": "text/x-python",
   "name": "python",
   "nbconvert_exporter": "python",
   "pygments_lexer": "ipython3",
   "version": "3.10.9"
  }
 },
 "nbformat": 4,
 "nbformat_minor": 2
}
