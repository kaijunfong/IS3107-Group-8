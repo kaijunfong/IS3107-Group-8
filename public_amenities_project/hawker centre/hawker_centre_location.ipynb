{
 "cells": [
  {
   "cell_type": "markdown",
   "metadata": {},
   "source": [
    "# Hawker Centre Location Dataset"
   ]
  },
  {
   "cell_type": "code",
   "execution_count": 28,
   "metadata": {},
   "outputs": [
    {
     "name": "stdout",
     "output_type": "stream",
     "text": [
      "Requirement already satisfied: geopandas in /Users/shiyingng/anaconda3/lib/python3.10/site-packages (1.0.1)\n",
      "Requirement already satisfied: beautifulsoup4 in /Users/shiyingng/anaconda3/lib/python3.10/site-packages (4.11.1)\n",
      "Requirement already satisfied: pyarrow in /Users/shiyingng/anaconda3/lib/python3.10/site-packages (19.0.1)\n",
      "Requirement already satisfied: numpy>=1.22 in /Users/shiyingng/anaconda3/lib/python3.10/site-packages (from geopandas) (1.24.2)\n",
      "Requirement already satisfied: pyogrio>=0.7.2 in /Users/shiyingng/anaconda3/lib/python3.10/site-packages (from geopandas) (0.10.0)\n",
      "Requirement already satisfied: packaging in /Users/shiyingng/anaconda3/lib/python3.10/site-packages (from geopandas) (23.0)\n",
      "Requirement already satisfied: pandas>=1.4.0 in /Users/shiyingng/anaconda3/lib/python3.10/site-packages (from geopandas) (1.5.3)\n",
      "Requirement already satisfied: pyproj>=3.3.0 in /Users/shiyingng/anaconda3/lib/python3.10/site-packages (from geopandas) (3.7.1)\n",
      "Requirement already satisfied: shapely>=2.0.0 in /Users/shiyingng/anaconda3/lib/python3.10/site-packages (from geopandas) (2.0.7)\n",
      "Requirement already satisfied: soupsieve>1.2 in /Users/shiyingng/anaconda3/lib/python3.10/site-packages (from beautifulsoup4) (2.3.2.post1)\n",
      "Requirement already satisfied: python-dateutil>=2.8.1 in /Users/shiyingng/anaconda3/lib/python3.10/site-packages (from pandas>=1.4.0->geopandas) (2.8.2)\n",
      "Requirement already satisfied: pytz>=2020.1 in /Users/shiyingng/anaconda3/lib/python3.10/site-packages (from pandas>=1.4.0->geopandas) (2022.7)\n",
      "Requirement already satisfied: certifi in /Users/shiyingng/anaconda3/lib/python3.10/site-packages (from pyogrio>=0.7.2->geopandas) (2024.2.2)\n",
      "Requirement already satisfied: six>=1.5 in /Users/shiyingng/anaconda3/lib/python3.10/site-packages (from python-dateutil>=2.8.1->pandas>=1.4.0->geopandas) (1.16.0)\n"
     ]
    }
   ],
   "source": [
    "! pip install geopandas beautifulsoup4 pyarrow"
   ]
  },
  {
   "cell_type": "code",
   "execution_count": 29,
   "metadata": {},
   "outputs": [],
   "source": [
    "import geopandas as gpd\n",
    "import pandas as pd\n",
    "from bs4 import BeautifulSoup"
   ]
  },
  {
   "cell_type": "markdown",
   "metadata": {},
   "source": [
    "## Load datasets"
   ]
  },
  {
   "cell_type": "code",
   "execution_count": 30,
   "metadata": {},
   "outputs": [
    {
     "data": {
      "text/html": [
       "<div>\n",
       "<style scoped>\n",
       "    .dataframe tbody tr th:only-of-type {\n",
       "        vertical-align: middle;\n",
       "    }\n",
       "\n",
       "    .dataframe tbody tr th {\n",
       "        vertical-align: top;\n",
       "    }\n",
       "\n",
       "    .dataframe thead th {\n",
       "        text-align: right;\n",
       "    }\n",
       "</style>\n",
       "<table border=\"1\" class=\"dataframe\">\n",
       "  <thead>\n",
       "    <tr style=\"text-align: right;\">\n",
       "      <th></th>\n",
       "      <th>Name</th>\n",
       "      <th>Description</th>\n",
       "      <th>geometry</th>\n",
       "    </tr>\n",
       "  </thead>\n",
       "  <tbody>\n",
       "    <tr>\n",
       "      <th>0</th>\n",
       "      <td>kml_1</td>\n",
       "      <td>&lt;center&gt;&lt;table&gt;&lt;tr&gt;&lt;th colspan='2' align='cent...</td>\n",
       "      <td>POINT Z (103.85016 1.28442 0)</td>\n",
       "    </tr>\n",
       "    <tr>\n",
       "      <th>1</th>\n",
       "      <td>kml_2</td>\n",
       "      <td>&lt;center&gt;&lt;table&gt;&lt;tr&gt;&lt;th colspan='2' align='cent...</td>\n",
       "      <td>POINT Z (103.77978 1.43354 0)</td>\n",
       "    </tr>\n",
       "    <tr>\n",
       "      <th>2</th>\n",
       "      <td>kml_3</td>\n",
       "      <td>&lt;center&gt;&lt;table&gt;&lt;tr&gt;&lt;th colspan='2' align='cent...</td>\n",
       "      <td>POINT Z (103.80472 1.29749 0)</td>\n",
       "    </tr>\n",
       "    <tr>\n",
       "      <th>3</th>\n",
       "      <td>kml_4</td>\n",
       "      <td>&lt;center&gt;&lt;table&gt;&lt;tr&gt;&lt;th colspan='2' align='cent...</td>\n",
       "      <td>POINT Z (103.87706 1.39159 0)</td>\n",
       "    </tr>\n",
       "    <tr>\n",
       "      <th>4</th>\n",
       "      <td>kml_5</td>\n",
       "      <td>&lt;center&gt;&lt;table&gt;&lt;tr&gt;&lt;th colspan='2' align='cent...</td>\n",
       "      <td>POINT Z (103.90481 1.40819 0)</td>\n",
       "    </tr>\n",
       "  </tbody>\n",
       "</table>\n",
       "</div>"
      ],
      "text/plain": [
       "    Name                                        Description  \\\n",
       "0  kml_1  <center><table><tr><th colspan='2' align='cent...   \n",
       "1  kml_2  <center><table><tr><th colspan='2' align='cent...   \n",
       "2  kml_3  <center><table><tr><th colspan='2' align='cent...   \n",
       "3  kml_4  <center><table><tr><th colspan='2' align='cent...   \n",
       "4  kml_5  <center><table><tr><th colspan='2' align='cent...   \n",
       "\n",
       "                        geometry  \n",
       "0  POINT Z (103.85016 1.28442 0)  \n",
       "1  POINT Z (103.77978 1.43354 0)  \n",
       "2  POINT Z (103.80472 1.29749 0)  \n",
       "3  POINT Z (103.87706 1.39159 0)  \n",
       "4  POINT Z (103.90481 1.40819 0)  "
      ]
     },
     "metadata": {},
     "output_type": "display_data"
    }
   ],
   "source": [
    "# Hawker centres facilities GeoJSON file \n",
    "geojson_file = \"HawkerCentresGEOJSON.geojson\" \n",
    "gdf = gpd.read_file(geojson_file)\n",
    "\n",
    "# Show first few rows to inspect\n",
    "display(gdf.head())"
   ]
  },
  {
   "cell_type": "markdown",
   "metadata": {},
   "source": [
    "## Extract the columns "
   ]
  },
  {
   "cell_type": "code",
   "execution_count": 31,
   "metadata": {},
   "outputs": [
    {
     "name": "stdout",
     "output_type": "stream",
     "text": [
      "    Name                                        Description  \\\n",
      "0  kml_1  <center><table><tr><th colspan='2' align='cent...   \n",
      "1  kml_2  <center><table><tr><th colspan='2' align='cent...   \n",
      "2  kml_3  <center><table><tr><th colspan='2' align='cent...   \n",
      "3  kml_4  <center><table><tr><th colspan='2' align='cent...   \n",
      "4  kml_5  <center><table><tr><th colspan='2' align='cent...   \n",
      "\n",
      "                        geometry AWARDED_DATE LANDYADDRESSPOINT  \\\n",
      "0  POINT Z (103.85016 1.28442 0)    17/7/2017           29650.7   \n",
      "1  POINT Z (103.77978 1.43354 0)     4/9/2015          46139.03   \n",
      "2  POINT Z (103.80472 1.29749 0)    11/5/2015          31094.91   \n",
      "3  POINT Z (103.87706 1.39159 0)    30/7/2018          41500.77   \n",
      "4  POINT Z (103.90481 1.40819 0)     8/8/2018          43336.13   \n",
      "\n",
      "                                            PHOTOURL ADDRESSBLOCKHOUSENUMBER  \\\n",
      "0                                                                         50   \n",
      "1  http://www.nea.gov.sg/images/default-source/Ha...                       4   \n",
      "2                                                                        38A   \n",
      "3                                                                         21   \n",
      "4                                                                          1   \n",
      "\n",
      "              DESCRIPTION EST_ORIGINAL_COMPLETION_DATE  \\\n",
      "0  New Replacement Centre                   15/11/2021   \n",
      "1  New Replacement Centre                    8/11/2017   \n",
      "2  New Replacement Centre                    30/3/2022   \n",
      "3              New Centre                    22/3/2022   \n",
      "4              New Centre                    29/4/2022   \n",
      "\n",
      "                   STATUS  ...                             NAME  \\\n",
      "0  Existing (replacement)  ...      Market Street Hawker Centre   \n",
      "1  Existing (replacement)  ...     Marsiling Mall Hawker Centre   \n",
      "2  Existing (replacement)  ...     Margaret Drive Hawker Centre   \n",
      "3          Existing (new)  ...  Fernvale Hawker Centre & Market   \n",
      "4          Existing (new)  ...        One Punggol Hawker Centre   \n",
      "\n",
      "                               ADDRESSBUILDINGNAME HUP_COMPLETION_DATE  \\\n",
      "0                                     CapitaSpring                       \n",
      "1                                   Marsiling Mall                       \n",
      "2                                                                        \n",
      "3  Fernvale Community Club, Hawker Centre & Market                       \n",
      "4                                      One Punggol                       \n",
      "\n",
      "  LANDXADDRESSPOINT     ADDRESSSTREETNAME ADDRESSPOSTALCODE  \\\n",
      "0          29874.82         Market Street             48940   \n",
      "1          22042.51   Woodlands Street 12            738623   \n",
      "2           24816.7        Margaret Drive            142038   \n",
      "3           32867.9  Sengkang West Avenue            797650   \n",
      "4          35955.52         Punggol Drive            828629   \n",
      "\n",
      "  IMPLEMENTATION_DATE                           ADDRESS_MYENV  \\\n",
      "0            1/8/2017                                           \n",
      "1            1/1/2016  Blk 4,Woodlands St 12,Singapore�738623   \n",
      "2           2/12/2015                                           \n",
      "3           13/8/2018                                           \n",
      "4           29/8/2018                                           \n",
      "\n",
      "            INC_CRC      FMEL_UPD_D  \n",
      "0  DB83871D0E006559  20221017143612  \n",
      "1  67D9A36B865FC1FB  20221017143612  \n",
      "2  C80F89698B7A8757  20221017143612  \n",
      "3  E3AB7D1743979E42  20221017143612  \n",
      "4  4780858D968F79C9  20221017143612  \n",
      "\n",
      "[5 rows x 22 columns]\n"
     ]
    }
   ],
   "source": [
    "# Function to extract data from the 'Description' HTML field\n",
    "def extract_description_info(description):\n",
    "    soup = BeautifulSoup(description, \"html.parser\")\n",
    "    data = {}\n",
    "\n",
    "    # Extract the table rows from the HTML\n",
    "    rows = soup.find_all('tr')\n",
    "\n",
    "    # Loop through each row and extract the column names and values\n",
    "    for row in rows:\n",
    "        th_elements = row.find_all('th')\n",
    "        td_elements = row.find_all('td')\n",
    "        \n",
    "        # Check if both <th> and <td> exist before extracting\n",
    "        if th_elements and td_elements:\n",
    "            key = th_elements[0].get_text(strip=True)\n",
    "            value = td_elements[0].get_text(strip=True)\n",
    "            data[key] = value\n",
    "\n",
    "    return data\n",
    "\n",
    "# Apply the extraction function to the 'Description' column\n",
    "description_data = gdf['Description'].apply(extract_description_info)\n",
    "\n",
    "# Convert the extracted data into a DataFrame\n",
    "description_df = pd.json_normalize(description_data)\n",
    "\n",
    "# Combine the new columns with the original GeoDataFrame (without overwriting the existing ones)\n",
    "gdf = pd.concat([gdf, description_df], axis=1)\n",
    "\n",
    "# Now, the GeoDataFrame should have new columns extracted from the Description field\n",
    "print(gdf.head())\n"
   ]
  },
  {
   "cell_type": "code",
   "execution_count": 32,
   "metadata": {},
   "outputs": [
    {
     "name": "stdout",
     "output_type": "stream",
     "text": [
      "['Name', 'Description', 'geometry', 'AWARDED_DATE', 'LANDYADDRESSPOINT', 'PHOTOURL', 'ADDRESSBLOCKHOUSENUMBER', 'DESCRIPTION', 'EST_ORIGINAL_COMPLETION_DATE', 'STATUS', 'APPROXIMATE_GFA', 'INFO_ON_CO_LOCATORS', 'NAME', 'ADDRESSBUILDINGNAME', 'HUP_COMPLETION_DATE', 'LANDXADDRESSPOINT', 'ADDRESSSTREETNAME', 'ADDRESSPOSTALCODE', 'IMPLEMENTATION_DATE', 'ADDRESS_MYENV', 'INC_CRC', 'FMEL_UPD_D']\n"
     ]
    }
   ],
   "source": [
    "# List all column names\n",
    "print(gdf.columns.tolist())"
   ]
  },
  {
   "cell_type": "markdown",
   "metadata": {},
   "source": [
    "Check for null values "
   ]
  },
  {
   "cell_type": "markdown",
   "metadata": {},
   "source": [
    "## Dataset statistics "
   ]
  },
  {
   "cell_type": "code",
   "execution_count": 33,
   "metadata": {},
   "outputs": [
    {
     "name": "stdout",
     "output_type": "stream",
     "text": [
      "Number of rows in the dataset: 125\n"
     ]
    }
   ],
   "source": [
    "# Get the number of rows and columns\n",
    "num_rows, num_columns = gdf.shape\n",
    "\n",
    "# Display the number of rows\n",
    "print(f\"Number of rows in the dataset: {num_rows}\")"
   ]
  },
  {
   "cell_type": "code",
   "execution_count": 34,
   "metadata": {},
   "outputs": [
    {
     "name": "stdout",
     "output_type": "stream",
     "text": [
      "Empty strings per column:\n",
      "Name                              0\n",
      "Description                       0\n",
      "geometry                          0\n",
      "AWARDED_DATE                    107\n",
      "LANDYADDRESSPOINT                 0\n",
      "PHOTOURL                         12\n",
      "ADDRESSBLOCKHOUSENUMBER           3\n",
      "DESCRIPTION                       0\n",
      "EST_ORIGINAL_COMPLETION_DATE      1\n",
      "STATUS                            0\n",
      "APPROXIMATE_GFA                  93\n",
      "INFO_ON_CO_LOCATORS             110\n",
      "NAME                              0\n",
      "ADDRESSBUILDINGNAME             109\n",
      "HUP_COMPLETION_DATE              28\n",
      "LANDXADDRESSPOINT                 0\n",
      "ADDRESSSTREETNAME                 0\n",
      "ADDRESSPOSTALCODE                 1\n",
      "IMPLEMENTATION_DATE             107\n",
      "ADDRESS_MYENV                    12\n",
      "INC_CRC                           0\n",
      "FMEL_UPD_D                        0\n",
      "dtype: int64\n"
     ]
    }
   ],
   "source": [
    "# Check for empty strings in the entire GeoDataFrame -- same as checking for null values \n",
    "empty_strings = (gdf == \"\").sum()\n",
    "\n",
    "# Display columns with empty strings\n",
    "print(\"Empty strings per column:\")\n",
    "print(empty_strings)"
   ]
  },
  {
   "cell_type": "code",
   "execution_count": 35,
   "metadata": {},
   "outputs": [
    {
     "name": "stdout",
     "output_type": "stream",
     "text": [
      "Number of duplicate hawker centre names: 0\n"
     ]
    }
   ],
   "source": [
    "# Check for duplicates \n",
    "duplicates = gdf.duplicated(subset=['NAME']).sum()\n",
    "\n",
    "# Display the number of duplicate rows \n",
    "print(f\"Number of duplicate hawker centre names: {duplicates}\")"
   ]
  },
  {
   "cell_type": "markdown",
   "metadata": {},
   "source": [
    "## Clean the dataset \n",
    "1. Change geomtry to coordinates \n",
    "2. Drop unnecessary columns \n",
    "3. Rename and rearrange columns "
   ]
  },
  {
   "cell_type": "code",
   "execution_count": 36,
   "metadata": {},
   "outputs": [
    {
     "name": "stdout",
     "output_type": "stream",
     "text": [
      "    Name                                        Description  \\\n",
      "0  kml_1  <center><table><tr><th colspan='2' align='cent...   \n",
      "1  kml_2  <center><table><tr><th colspan='2' align='cent...   \n",
      "2  kml_3  <center><table><tr><th colspan='2' align='cent...   \n",
      "3  kml_4  <center><table><tr><th colspan='2' align='cent...   \n",
      "4  kml_5  <center><table><tr><th colspan='2' align='cent...   \n",
      "\n",
      "                        geometry AWARDED_DATE LANDYADDRESSPOINT  \\\n",
      "0  POINT Z (103.85016 1.28442 0)    17/7/2017           29650.7   \n",
      "1  POINT Z (103.77978 1.43354 0)     4/9/2015          46139.03   \n",
      "2  POINT Z (103.80472 1.29749 0)    11/5/2015          31094.91   \n",
      "3  POINT Z (103.87706 1.39159 0)    30/7/2018          41500.77   \n",
      "4  POINT Z (103.90481 1.40819 0)     8/8/2018          43336.13   \n",
      "\n",
      "                                            PHOTOURL ADDRESSBLOCKHOUSENUMBER  \\\n",
      "0                                                                         50   \n",
      "1  http://www.nea.gov.sg/images/default-source/Ha...                       4   \n",
      "2                                                                        38A   \n",
      "3                                                                         21   \n",
      "4                                                                          1   \n",
      "\n",
      "              DESCRIPTION EST_ORIGINAL_COMPLETION_DATE  \\\n",
      "0  New Replacement Centre                   15/11/2021   \n",
      "1  New Replacement Centre                    8/11/2017   \n",
      "2  New Replacement Centre                    30/3/2022   \n",
      "3              New Centre                    22/3/2022   \n",
      "4              New Centre                    29/4/2022   \n",
      "\n",
      "                   STATUS  ... HUP_COMPLETION_DATE LANDXADDRESSPOINT  \\\n",
      "0  Existing (replacement)  ...                              29874.82   \n",
      "1  Existing (replacement)  ...                              22042.51   \n",
      "2  Existing (replacement)  ...                               24816.7   \n",
      "3          Existing (new)  ...                               32867.9   \n",
      "4          Existing (new)  ...                              35955.52   \n",
      "\n",
      "      ADDRESSSTREETNAME ADDRESSPOSTALCODE IMPLEMENTATION_DATE  \\\n",
      "0         Market Street             48940            1/8/2017   \n",
      "1   Woodlands Street 12            738623            1/1/2016   \n",
      "2        Margaret Drive            142038           2/12/2015   \n",
      "3  Sengkang West Avenue            797650           13/8/2018   \n",
      "4         Punggol Drive            828629           29/8/2018   \n",
      "\n",
      "                            ADDRESS_MYENV           INC_CRC      FMEL_UPD_D  \\\n",
      "0                                          DB83871D0E006559  20221017143612   \n",
      "1  Blk 4,Woodlands St 12,Singapore�738623  67D9A36B865FC1FB  20221017143612   \n",
      "2                                          C80F89698B7A8757  20221017143612   \n",
      "3                                          E3AB7D1743979E42  20221017143612   \n",
      "4                                          4780858D968F79C9  20221017143612   \n",
      "\n",
      "    longitude  latitude  \n",
      "0  103.850165  1.284425  \n",
      "1  103.779785  1.433539  \n",
      "2  103.804715  1.297486  \n",
      "3  103.877060  1.391592  \n",
      "4  103.904806  1.408190  \n",
      "\n",
      "[5 rows x 24 columns]\n"
     ]
    }
   ],
   "source": [
    "# Extract longitude and latitude from the geometry column\n",
    "gdf['longitude'] = gdf['geometry'].apply(lambda point: point.x)  # Longitude is the x-coordinate\n",
    "gdf['latitude'] = gdf['geometry'].apply(lambda point: point.y)   # Latitude is the y-coordinate\n",
    "\n",
    "# Verify the new columns \n",
    "print(gdf.head())"
   ]
  },
  {
   "cell_type": "code",
   "execution_count": 37,
   "metadata": {},
   "outputs": [
    {
     "name": "stdout",
     "output_type": "stream",
     "text": [
      "  ADDRESSBLOCKHOUSENUMBER             DESCRIPTION  \\\n",
      "0                      50  New Replacement Centre   \n",
      "1                       4  New Replacement Centre   \n",
      "2                     38A  New Replacement Centre   \n",
      "3                      21              New Centre   \n",
      "4                       1              New Centre   \n",
      "\n",
      "                              NAME     ADDRESSSTREETNAME ADDRESSPOSTALCODE  \\\n",
      "0      Market Street Hawker Centre         Market Street             48940   \n",
      "1     Marsiling Mall Hawker Centre   Woodlands Street 12            738623   \n",
      "2     Margaret Drive Hawker Centre        Margaret Drive            142038   \n",
      "3  Fernvale Hawker Centre & Market  Sengkang West Avenue            797650   \n",
      "4        One Punggol Hawker Centre         Punggol Drive            828629   \n",
      "\n",
      "    longitude  latitude  \n",
      "0  103.850165  1.284425  \n",
      "1  103.779785  1.433539  \n",
      "2  103.804715  1.297486  \n",
      "3  103.877060  1.391592  \n",
      "4  103.904806  1.408190  \n"
     ]
    }
   ],
   "source": [
    "# Drop the unnecessary columns \n",
    "columns_to_drop = ['Name', 'Description', 'geometry', 'AWARDED_DATE', 'LANDYADDRESSPOINT', 'PHOTOURL', 'EST_ORIGINAL_COMPLETION_DATE',\n",
    "                    'STATUS', 'APPROXIMATE_GFA', 'HUP_COMPLETION_DATE', 'LANDXADDRESSPOINT', 'IMPLEMENTATION_DATE', 'ADDRESS_MYENV', \n",
    "                    'INC_CRC', 'FMEL_UPD_D', 'ADDRESSBUILDINGNAME', 'INFO_ON_CO_LOCATORS'] \n",
    "gdf = gdf.drop(columns=columns_to_drop)\n",
    "\n",
    "# Verify that the columns are dropped\n",
    "print(gdf.head())"
   ]
  },
  {
   "cell_type": "code",
   "execution_count": 38,
   "metadata": {},
   "outputs": [
    {
     "name": "stdout",
     "output_type": "stream",
     "text": [
      "['ADDRESSBLOCKHOUSENUMBER', 'DESCRIPTION', 'NAME', 'ADDRESSSTREETNAME', 'ADDRESSPOSTALCODE', 'longitude', 'latitude']\n"
     ]
    }
   ],
   "source": [
    "# Check if columns are dropped correctly\n",
    "print(gdf.columns.tolist())"
   ]
  },
  {
   "cell_type": "code",
   "execution_count": null,
   "metadata": {},
   "outputs": [
    {
     "name": "stdout",
     "output_type": "stream",
     "text": [
      "                                                 name        street_name  \\\n",
      "12                              Adam Road Food Centre          Adam Road   \n",
      "13  Aljunied Ave 2 Blk 117 (Blk 117 Aljunied Marke...     Aljunied Ave 2   \n",
      "14   Amoy Street Food Centre (Telok Ayer Food Centre)  Telok Ayer Street   \n",
      "74                   Anchorvale Village Hawker Centre    Anchorvale Road   \n",
      "15  Ang Mo Kio Ave 1 Blk 226D (Kebun Baru Market a...   Ang Mo Kio Ave 1   \n",
      "\n",
      "   postal_code block_number                  status   longitude  latitude  \n",
      "12      289876            2  HUP Standard Upgrading  103.814165  1.324134  \n",
      "13      380117          117  HUP Standard Upgrading  103.887019  1.320648  \n",
      "14       69111               HUP Standard Upgrading  103.846607  1.279218  \n",
      "74      540339          339              New Centre  103.888490  1.396914  \n",
      "15      564226         226D  HUP Standard Upgrading  103.839231  1.366788  \n"
     ]
    }
   ],
   "source": [
    "# Rename columns\n",
    "gdf = gdf.rename(columns={\n",
    "    'NAME': 'name',\n",
    "    'ADDRESSSTREETNAME': 'address',\n",
    "    'ADDRESSPOSTALCODE': 'postalCode',\n",
    "    'DESCRIPTION': 'hawkerStatus'\n",
    "})\n",
    "\n",
    "# Rearrange columns\n",
    "gdf = gdf[['name', 'address', 'postalCode', 'hawkerStatus', 'longitude', 'latitude']]\n",
    "\n",
    "# Sort the GeoDataFrame by hawker_centre_name alphabetically\n",
    "gdf = gdf.sort_values(by='name', ascending=True)\n",
    "\n",
    "# Verify the column names after renaming\n",
    "print(gdf.head())"
   ]
  },
  {
   "cell_type": "markdown",
   "metadata": {},
   "source": [
    "## Save as csv "
   ]
  },
  {
   "cell_type": "code",
   "execution_count": 40,
   "metadata": {},
   "outputs": [
    {
     "data": {
      "text/html": [
       "<div>\n",
       "<style scoped>\n",
       "    .dataframe tbody tr th:only-of-type {\n",
       "        vertical-align: middle;\n",
       "    }\n",
       "\n",
       "    .dataframe tbody tr th {\n",
       "        vertical-align: top;\n",
       "    }\n",
       "\n",
       "    .dataframe thead th {\n",
       "        text-align: right;\n",
       "    }\n",
       "</style>\n",
       "<table border=\"1\" class=\"dataframe\">\n",
       "  <thead>\n",
       "    <tr style=\"text-align: right;\">\n",
       "      <th></th>\n",
       "      <th>name</th>\n",
       "      <th>street_name</th>\n",
       "      <th>postal_code</th>\n",
       "      <th>block_number</th>\n",
       "      <th>status</th>\n",
       "      <th>longitude</th>\n",
       "      <th>latitude</th>\n",
       "    </tr>\n",
       "  </thead>\n",
       "  <tbody>\n",
       "    <tr>\n",
       "      <th>0</th>\n",
       "      <td>Adam Road Food Centre</td>\n",
       "      <td>Adam Road</td>\n",
       "      <td>289876.0</td>\n",
       "      <td>2</td>\n",
       "      <td>HUP Standard Upgrading</td>\n",
       "      <td>103.814165</td>\n",
       "      <td>1.324134</td>\n",
       "    </tr>\n",
       "    <tr>\n",
       "      <th>1</th>\n",
       "      <td>Aljunied Ave 2 Blk 117 (Blk 117 Aljunied Marke...</td>\n",
       "      <td>Aljunied Ave 2</td>\n",
       "      <td>380117.0</td>\n",
       "      <td>117</td>\n",
       "      <td>HUP Standard Upgrading</td>\n",
       "      <td>103.887019</td>\n",
       "      <td>1.320648</td>\n",
       "    </tr>\n",
       "    <tr>\n",
       "      <th>2</th>\n",
       "      <td>Amoy Street Food Centre (Telok Ayer Food Centre)</td>\n",
       "      <td>Telok Ayer Street</td>\n",
       "      <td>69111.0</td>\n",
       "      <td>NaN</td>\n",
       "      <td>HUP Standard Upgrading</td>\n",
       "      <td>103.846607</td>\n",
       "      <td>1.279218</td>\n",
       "    </tr>\n",
       "    <tr>\n",
       "      <th>3</th>\n",
       "      <td>Anchorvale Village Hawker Centre</td>\n",
       "      <td>Anchorvale Road</td>\n",
       "      <td>540339.0</td>\n",
       "      <td>339</td>\n",
       "      <td>New Centre</td>\n",
       "      <td>103.888490</td>\n",
       "      <td>1.396914</td>\n",
       "    </tr>\n",
       "    <tr>\n",
       "      <th>4</th>\n",
       "      <td>Ang Mo Kio Ave 1 Blk 226D (Kebun Baru Market a...</td>\n",
       "      <td>Ang Mo Kio Ave 1</td>\n",
       "      <td>564226.0</td>\n",
       "      <td>226D</td>\n",
       "      <td>HUP Standard Upgrading</td>\n",
       "      <td>103.839231</td>\n",
       "      <td>1.366788</td>\n",
       "    </tr>\n",
       "  </tbody>\n",
       "</table>\n",
       "</div>"
      ],
      "text/plain": [
       "                                                name        street_name  \\\n",
       "0                              Adam Road Food Centre          Adam Road   \n",
       "1  Aljunied Ave 2 Blk 117 (Blk 117 Aljunied Marke...     Aljunied Ave 2   \n",
       "2   Amoy Street Food Centre (Telok Ayer Food Centre)  Telok Ayer Street   \n",
       "3                   Anchorvale Village Hawker Centre    Anchorvale Road   \n",
       "4  Ang Mo Kio Ave 1 Blk 226D (Kebun Baru Market a...   Ang Mo Kio Ave 1   \n",
       "\n",
       "   postal_code block_number                  status   longitude  latitude  \n",
       "0     289876.0            2  HUP Standard Upgrading  103.814165  1.324134  \n",
       "1     380117.0          117  HUP Standard Upgrading  103.887019  1.320648  \n",
       "2      69111.0          NaN  HUP Standard Upgrading  103.846607  1.279218  \n",
       "3     540339.0          339              New Centre  103.888490  1.396914  \n",
       "4     564226.0         226D  HUP Standard Upgrading  103.839231  1.366788  "
      ]
     },
     "metadata": {},
     "output_type": "display_data"
    }
   ],
   "source": [
    "csv_file = \"hawker_centres_cleaned.csv\"\n",
    "gdf.to_csv(csv_file, index=False)\n",
    "\n",
    "# Load and preview CSV file to confirm\n",
    "df = pd.read_csv(csv_file)\n",
    "display(df.head())"
   ]
  }
 ],
 "metadata": {
  "kernelspec": {
   "display_name": "base",
   "language": "python",
   "name": "python3"
  },
  "language_info": {
   "codemirror_mode": {
    "name": "ipython",
    "version": 3
   },
   "file_extension": ".py",
   "mimetype": "text/x-python",
   "name": "python",
   "nbconvert_exporter": "python",
   "pygments_lexer": "ipython3",
   "version": "3.10.9"
  }
 },
 "nbformat": 4,
 "nbformat_minor": 2
}
