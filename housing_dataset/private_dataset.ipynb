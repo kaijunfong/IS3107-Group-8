{
 "cells": [
  {
   "cell_type": "code",
   "execution_count": 1,
   "metadata": {},
   "outputs": [],
   "source": [
    "import requests\n",
    "import pandas as pd"
   ]
  },
  {
   "cell_type": "code",
   "execution_count": 2,
   "metadata": {},
   "outputs": [],
   "source": [
    "url = \"https://eservice.ura.gov.sg/uraDataService/invokeUraDS/v1?service=PMI_Resi_Rental&refPeriod=14q1\""
   ]
  },
  {
   "cell_type": "code",
   "execution_count": 3,
   "metadata": {},
   "outputs": [
    {
     "name": "stdout",
     "output_type": "stream",
     "text": [
      "Fetching data for 20q1...\n",
      "Fetching data for 20q2...\n",
      "Fetching data for 20q3...\n",
      "Fetching data for 20q4...\n",
      "Fetching data for 21q1...\n",
      "Fetching data for 21q2...\n",
      "Fetching data for 21q3...\n",
      "Fetching data for 21q4...\n",
      "Fetching data for 22q1...\n",
      "Fetching data for 22q2...\n",
      "Fetching data for 22q3...\n",
      "Fetching data for 22q4...\n",
      "Fetching data for 23q1...\n",
      "Fetching data for 23q2...\n",
      "Fetching data for 23q3...\n",
      "Fetching data for 23q4...\n",
      "Fetching data for 24q1...\n",
      "Fetching data for 24q2...\n",
      "Fetching data for 24q3...\n",
      "Fetching data for 24q4...\n",
      "Data successfully saved to ura_rental_data.csv\n"
     ]
    }
   ],
   "source": [
    "import requests\n",
    "import pandas as pd\n",
    "from time import sleep\n",
    "\n",
    "# Define API URL\n",
    "base_url = \"https://www.ura.gov.sg/uraDataService/invokeUraDS/v1?service=PMI_Resi_Rental\"\n",
    "\n",
    "# API Credentials (Replace with actual credentials)\n",
    "ACCESS_KEY = \"\"\n",
    "TOKEN = \"\"\n",
    "\n",
    "# Define headers\n",
    "headers = {\n",
    "    \"AccessKey\": ACCESS_KEY,\n",
    "    \"Token\": TOKEN,\n",
    "    \"User-Agent\": \"Mozilla/5.0\"\n",
    "}\n",
    "\n",
    "# Generate refPeriod list (from 20 Q1 to 2024 Q4)\n",
    "years = range(20, 25)  # 2014 to 2024\n",
    "quarters = [\"q1\", \"q2\", \"q3\", \"q4\"]\n",
    "ref_periods = [f\"{year}{q}\" for year in years for q in quarters]\n",
    "\n",
    "# Empty list to store all data\n",
    "all_data = []\n",
    "\n",
    "# Loop through each refPeriod\n",
    "for ref_period in ref_periods:\n",
    "    print(f\"Fetching data for {ref_period}...\")\n",
    "    \n",
    "    # Define request parameters\n",
    "    params = {\"refPeriod\": ref_period}\n",
    "\n",
    "    # Send GET request with refPeriod as a parameter\n",
    "    response = requests.get(base_url, headers=headers, params=params)\n",
    "\n",
    "    # Check response status\n",
    "    if response.status_code == 200:\n",
    "        data = response.json()  # Convert to JSON\n",
    "\n",
    "        # Check if 'Result' key exists and append data\n",
    "        if \"Result\" in data and data[\"Result\"]:\n",
    "            all_data.extend(data[\"Result\"])  # Collect data\n",
    "        else:\n",
    "            print(f\"No data for {ref_period}\")\n",
    "    else:\n",
    "        print(f\"Error fetching {ref_period}: {response.status_code}\")\n",
    "\n",
    "    sleep(1)  # Add delay to avoid rate limits\n",
    "\n",
    "# Convert collected data to a Pandas DataFrame\n",
    "df = pd.DataFrame(all_data)\n",
    "\n",
    "# Save the DataFrame as a CSV file\n",
    "df.to_csv(\"ura_rental_data.csv\", index=False)\n",
    "\n",
    "print(\"Data successfully saved to ura_rental_data.csv\")\n"
   ]
  }
 ],
 "metadata": {
  "kernelspec": {
   "display_name": "Python 3",
   "language": "python",
   "name": "python3"
  },
  "language_info": {
   "codemirror_mode": {
    "name": "ipython",
    "version": 3
   },
   "file_extension": ".py",
   "mimetype": "text/x-python",
   "name": "python",
   "nbconvert_exporter": "python",
   "pygments_lexer": "ipython3",
   "version": "3.10.6"
  }
 },
 "nbformat": 4,
 "nbformat_minor": 2
}
